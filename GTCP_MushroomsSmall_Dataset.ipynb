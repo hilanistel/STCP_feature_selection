{
  "nbformat": 4,
  "nbformat_minor": 0,
  "metadata": {
    "colab": {
      "name": "GTCP_MushroomsSmall_Dataset 20.02.21 .ipynb",
      "provenance": [],
      "collapsed_sections": [],
      "authorship_tag": "ABX9TyOG0I7772WCDyd8czioT4xe",
      "include_colab_link": true
    },
    "kernelspec": {
      "name": "python3",
      "display_name": "Python 3"
    }
  },
  "cells": [
    {
      "cell_type": "markdown",
      "metadata": {
        "id": "view-in-github",
        "colab_type": "text"
      },
      "source": [
        "<a href=\"https://colab.research.google.com/github/hilanistel/STCP_feature_selection/blob/GTCP/GTCP_MushroomsSmall_Dataset.ipynb\" target=\"_parent\"><img src=\"https://colab.research.google.com/assets/colab-badge.svg\" alt=\"Open In Colab\"/></a>"
      ]
    },
    {
      "cell_type": "code",
      "metadata": {
        "colab": {
          "base_uri": "https://localhost:8080/"
        },
        "id": "XIyn3YyCQ_bg",
        "outputId": "041b2863-c02f-41a0-862b-0343502e32b2"
      },
      "source": [
        "from google.colab import drive\r\n",
        "import pandas as pd\r\n",
        "drive.mount('/content/gdrive')\r\n",
        "#load users list and movies list\r\n",
        "Mushrooms_data = pd.read_csv(\"gdrive/My Drive/תזה תואר שני/MushroomsSmall/Readings.csv\",header=None)"
      ],
      "execution_count": 24,
      "outputs": [
        {
          "output_type": "stream",
          "text": [
            "Drive already mounted at /content/gdrive; to attempt to forcibly remount, call drive.mount(\"/content/gdrive\", force_remount=True).\n"
          ],
          "name": "stdout"
        }
      ]
    },
    {
      "cell_type": "code",
      "metadata": {
        "id": "xiAXV-CNRP3N"
      },
      "source": [
        "X=Mushrooms_data.drop(21, axis=1) # drop the reading class\r\n",
        "Mushrooms_data=Mushrooms_data[Mushrooms_data.columns[len(Mushrooms_data.columns)-1]]\r\n",
        "Mushrooms_readings = [tuple(row) for row in X.values]"
      ],
      "execution_count": 25,
      "outputs": []
    },
    {
      "cell_type": "code",
      "metadata": {
        "id": "cTsNEsyHRfOZ"
      },
      "source": [
        "TR = {}\r\n",
        "for index_i, i in enumerate(Mushrooms_readings):\r\n",
        "    TR.update({i:{}})\r\n",
        "    for index_j, j in enumerate(Mushrooms_data):\r\n",
        "      if index_j == index_i:\r\n",
        "       TR[i] = Mushrooms_data[j]"
      ],
      "execution_count": 26,
      "outputs": []
    },
    {
      "cell_type": "code",
      "metadata": {
        "id": "ka0nPbb40__5"
      },
      "source": [
        "#TR = {(0,0,0,1):1, (0,1,1,1):1,(1,1,1,1):1,(1,0,2,1):1,(1,0,1,1):0,(0,1,0,0):0,(0,0,2,0):0}"
      ],
      "execution_count": null,
      "outputs": []
    },
    {
      "cell_type": "code",
      "metadata": {
        "id": "-m9-865p2nhv"
      },
      "source": [
        "ci = [1,1,1,1,1,1,1,1,1,1,1,1,1,1,1,1,1,1,1,1,1]"
      ],
      "execution_count": 28,
      "outputs": []
    },
    {
      "cell_type": "code",
      "metadata": {
        "id": "vg6fhb9W2utU"
      },
      "source": [
        "N = [1,2,3,4,5,6,7,8,9,10,11,12,13,14,15,16,17,18,19,20,21]"
      ],
      "execution_count": 29,
      "outputs": []
    },
    {
      "cell_type": "markdown",
      "metadata": {
        "id": "IVeNcAAW4jFH"
      },
      "source": [
        "**CRA**"
      ]
    },
    {
      "cell_type": "markdown",
      "metadata": {
        "id": "cRIB7bNz_6AG"
      },
      "source": [
        "𝑆= {𝑖∈𝑁: 𝑟𝑖≠𝑞𝑖}"
      ]
    },
    {
      "cell_type": "code",
      "metadata": {
        "id": "cqzWpOZj_vmK"
      },
      "source": [
        "def S(r,q):\r\n",
        "  s = []\r\n",
        "  for index_i,i in enumerate(r):\r\n",
        "      if r[index_i] != q[index_i]:\r\n",
        "        s.append(index_i)\r\n",
        "  return s"
      ],
      "execution_count": 30,
      "outputs": []
    },
    {
      "cell_type": "code",
      "metadata": {
        "colab": {
          "base_uri": "https://localhost:8080/"
        },
        "id": "IhhE_9c8Ka3_",
        "outputId": "d04b8743-a7f9-4d31-e07f-5e43691dd933"
      },
      "source": [
        "S((1, 1, 1, 1),(1, 0, 1, 1))"
      ],
      "execution_count": null,
      "outputs": [
        {
          "output_type": "execute_result",
          "data": {
            "text/plain": [
              "[1]"
            ]
          },
          "metadata": {
            "tags": []
          },
          "execution_count": 116
        }
      ]
    },
    {
      "cell_type": "markdown",
      "metadata": {
        "id": "pGV3BNLWCDNN"
      },
      "source": [
        "If there is no 𝑆′∈ℂ s.t 𝑆′⊆𝑆"
      ]
    },
    {
      "cell_type": "code",
      "metadata": {
        "id": "itWmMPZvCCzG"
      },
      "source": [
        "# function create to get all N subsets\r\n",
        "def sub_lists (l): \r\n",
        "    base = []   \r\n",
        "    lists = [base] \r\n",
        "    for i in range(len(l)): \r\n",
        "        orig = lists[:] \r\n",
        "        new = l[i] \r\n",
        "        for j in range(len(lists)): \r\n",
        "            lists[j] = lists[j] + [new] \r\n",
        "        lists = orig + lists   \r\n",
        "    lists.remove([])  \r\n",
        "    return lists"
      ],
      "execution_count": 31,
      "outputs": []
    },
    {
      "cell_type": "code",
      "metadata": {
        "id": "NRyJf0-mDSUX"
      },
      "source": [
        "def S_in_C(S,C):\r\n",
        "  subsets_S = sub_lists(S)\r\n",
        "  for s in subsets_S:\r\n",
        "    for c in C:\r\n",
        "      if s == c:\r\n",
        "        return 0 #True\r\n",
        "  return 1 #False"
      ],
      "execution_count": 32,
      "outputs": []
    },
    {
      "cell_type": "code",
      "metadata": {
        "colab": {
          "base_uri": "https://localhost:8080/"
        },
        "id": "sFuK8Hk_4lw4",
        "outputId": "8b87f8ca-4908-485c-8fd1-198cb654c854"
      },
      "source": [
        "C = [] # start with an empty collection of constraints\r\n",
        "for i in TR:\r\n",
        "  for j in TR:\r\n",
        "    if TR[i] != TR[j]:\r\n",
        "      s = S(i,j) # 𝑆= {𝑖∈𝑁: 𝑟𝑖≠𝑞𝑖}\r\n",
        "      if S_in_C(s,C) == 1:\r\n",
        "        for c in C:\r\n",
        "          C1= C.copy()\r\n",
        "          subsets_c = sub_lists(c)\r\n",
        "          if s in subsets_c:\r\n",
        "            C1.remove(c)\r\n",
        "          C = C1\r\n",
        "        C.append(s)\r\n",
        "print(C)"
      ],
      "execution_count": 33,
      "outputs": [
        {
          "output_type": "stream",
          "text": [
            "[[1, 3, 4, 19], [1, 2, 3, 4], [4, 6, 9, 20], [4, 7], [0, 1, 3, 4], [1, 3, 4, 18], [1, 3, 4, 20], [1, 3, 4, 8]]\n"
          ],
          "name": "stdout"
        }
      ]
    },
    {
      "cell_type": "markdown",
      "metadata": {
        "id": "G9Z4OcUEmcq-"
      },
      "source": [
        "**CPLEX**"
      ]
    },
    {
      "cell_type": "code",
      "metadata": {
        "colab": {
          "base_uri": "https://localhost:8080/"
        },
        "id": "3irSsy7WrysA",
        "outputId": "5519a17f-9fe7-42e3-e331-7033df3338d3"
      },
      "source": [
        "pip install cplex"
      ],
      "execution_count": 50,
      "outputs": [
        {
          "output_type": "stream",
          "text": [
            "Collecting cplex\n",
            "\u001b[?25l  Downloading https://files.pythonhosted.org/packages/69/65/75bc076bec7a29ac65c9a8049d66effbf84db40d6f4f8e8137e9c9eaeb15/cplex-12.10.0.3-cp36-cp36m-manylinux1_x86_64.whl (31.0MB)\n",
            "\u001b[K     |████████████████████████████████| 31.0MB 150kB/s \n",
            "\u001b[?25hInstalling collected packages: cplex\n",
            "Successfully installed cplex-12.10.0.3\n"
          ],
          "name": "stdout"
        }
      ]
    },
    {
      "cell_type": "code",
      "metadata": {
        "colab": {
          "base_uri": "https://localhost:8080/"
        },
        "id": "uGLcTdnTr9Hs",
        "outputId": "80307d89-0f64-40ca-aaad-e64e737c4938"
      },
      "source": [
        "\r\n",
        "import cplex\r\n",
        "\r\n",
        "# Create an instance of a linear problem to solve\r\n",
        "problem = cplex.Cplex()\r\n",
        "\r\n",
        "\r\n",
        "# We want to find a minimum of our objective function\r\n",
        "problem.objective.set_sense(problem.objective.sense.minimize)\r\n",
        "\r\n",
        "# The names of our variables (tests)\r\n",
        "names = []\r\n",
        "for i in N:\r\n",
        "  names.append(\"x\" + str(i))\r\n",
        "\r\n",
        "\r\n",
        "# The obective function. More precisely, the coefficients of the objective\r\n",
        "# function. Note that we are casting to floats.\r\n",
        "objective = []\r\n",
        "for i in ci:\r\n",
        "  objective.append(float(i))\r\n",
        "\r\n",
        "# Lower bounds. Since these are all zero, we could simply not pass them in as\r\n",
        "# all zeroes is the default.\r\n",
        "lower_bounds = []\r\n",
        "for i in N:\r\n",
        "  lower_bounds.append(float(0))\r\n",
        "\r\n",
        "# Upper bounds. The default here would be cplex.infinity, or 1e+20.\r\n",
        "upper_bounds = []\r\n",
        "for i in N:\r\n",
        "  upper_bounds.append(1000)\r\n",
        "\r\n",
        "problem.variables.add(obj = objective,\r\n",
        "                      lb = lower_bounds,\r\n",
        "                      ub = upper_bounds,\r\n",
        "                      names = names)\r\n",
        "\r\n",
        "# Constraints\r\n",
        "constraint_names = []\r\n",
        "for i in C:\r\n",
        "  constraint_names.append(\"c\" + str(i))\r\n",
        "\r\n",
        "constraints = []\r\n",
        "for i in C:\r\n",
        "  var = []\r\n",
        "  for j in i:\r\n",
        "    var.append(names[j])\r\n",
        "  ones = [1.0] *len(i)\r\n",
        "  var_ones = [var, ones]\r\n",
        "  constraints.append(var_ones)\r\n",
        "\r\n",
        "rhs = [1.0] *len(C)\r\n",
        "constraint_senses =[\"G\"] *len(C)\r\n",
        "\r\n",
        "# And add the constraints\r\n",
        "problem.linear_constraints.add(lin_expr = constraints,\r\n",
        "                               senses = constraint_senses,\r\n",
        "                               rhs = rhs,\r\n",
        "                               names = constraint_names)\r\n",
        "\r\n",
        "# Solve the problem\r\n",
        "problem.solve()\r\n",
        "\r\n",
        "# And print the solutions\r\n",
        "print(problem.solution.get_values())"
      ],
      "execution_count": 52,
      "outputs": [
        {
          "output_type": "stream",
          "text": [
            "Version identifier: 12.10.0.0 | 2019-11-27 | 843d4de\n",
            "CPXPARAM_Read_DataCheck                          1\n",
            "Tried aggregator 1 time.\n",
            "LP Presolve eliminated 0 rows and 11 columns.\n",
            "Reduced LP has 8 rows, 10 columns, and 23 nonzeros.\n",
            "Presolve time = 0.00 sec. (0.01 ticks)\n",
            "Symmetry aggregator did 8 additional substitutions.\n",
            "\n",
            "Iteration log . . .\n",
            "Iteration:     1   Dual objective     =             1.000000\n",
            "\n",
            "Dual crossover.\n",
            "  Dual:  Fixing 4 variables.\n",
            "        3 DMoves:  Infeasibility  1.66533454e-16  Objective  1.00000000e+00\n",
            "        0 DMoves:  Infeasibility  3.33066907e-16  Objective  1.00000000e+00\n",
            "  Dual:  Pushed 4, exchanged 0.\n",
            "  Primal:  Fixed no variables.\n",
            "[0.0, 0.0, 0.0, 0.0, 1.0, 0.0, 0.0, 0.0, 0.0, 0.0, 0.0, 0.0, 0.0, 0.0, 0.0, 0.0, 0.0, 0.0, 0.0, 0.0, 0.0]\n"
          ],
          "name": "stdout"
        }
      ]
    }
  ]
}