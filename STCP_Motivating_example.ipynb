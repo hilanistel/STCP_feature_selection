{
  "nbformat": 4,
  "nbformat_minor": 0,
  "metadata": {
    "colab": {
      "name": "STCP_Motivating_example.ipynb",
      "provenance": [],
      "collapsed_sections": [],
      "authorship_tag": "ABX9TyNqIic8scpD1l/bFuP8/y+m",
      "include_colab_link": true
    },
    "kernelspec": {
      "name": "python3",
      "display_name": "Python 3"
    }
  },
  "cells": [
    {
      "cell_type": "markdown",
      "metadata": {
        "id": "view-in-github",
        "colab_type": "text"
      },
      "source": [
        "<a href=\"https://colab.research.google.com/github/hilanistel/STCP_feature_selection/blob/STCP-Motivating-example/STCP_Motivating_example.ipynb\" target=\"_parent\"><img src=\"https://colab.research.google.com/assets/colab-badge.svg\" alt=\"Open In Colab\"/></a>"
      ]
    },
    {
      "cell_type": "markdown",
      "metadata": {
        "id": "4_20upab669N"
      },
      "source": [
        "Test Reading , R."
      ]
    },
    {
      "cell_type": "code",
      "metadata": {
        "id": "W-jFVrha62ke"
      },
      "source": [
        "TR = ((0,0,0),(0,0,1),(0,1,0),(0,1,1),(1,0,0),(1,0,1),(1,1,0),(1,1,1))"
      ],
      "execution_count": null,
      "outputs": []
    },
    {
      "cell_type": "markdown",
      "metadata": {
        "id": "v1WFHOt865hQ"
      },
      "source": [
        "𝑝(𝐫̃) - The a-priory probability of obtaining the reading 𝐫̃∈𝑅."
      ]
    },
    {
      "cell_type": "code",
      "metadata": {
        "id": "32viQ-I964tH"
      },
      "source": [
        "pr_ = (0.067,0.119,0.105,0.135,0.097,0.080,0.251,0.146)"
      ],
      "execution_count": null,
      "outputs": []
    },
    {
      "cell_type": "markdown",
      "metadata": {
        "id": "9e0sPyWS-C-z"
      },
      "source": [
        "𝑝(𝐫̃|𝑘) - The conditional probability of each reading given a class."
      ]
    },
    {
      "cell_type": "code",
      "metadata": {
        "id": "rVofkyAF64_X"
      },
      "source": [
        "pr_k = {\"Negative\": (0.035,0.015,0.105,0.045,0.140,0.060,0.420,0.180), \"Positive\": (0.105,0.245,0.105,0.245,0.045,0.105,0.045,0.105)}"
      ],
      "execution_count": null,
      "outputs": []
    },
    {
      "cell_type": "markdown",
      "metadata": {
        "id": "F_MvBFcx_oSP"
      },
      "source": [
        "𝑝(𝑘|𝐫̃) - The conditional probability of class 𝑘∈𝐾 given the reading 𝐫̃∈𝑅."
      ]
    },
    {
      "cell_type": "code",
      "metadata": {
        "id": "h16aGi6qAK35"
      },
      "source": [
        "pkr_ = {\"Negative\": (0.289,0.070,0.550,0.183,0.792,0.411,0.919,0.677), \"Positive\": (0.711,0.930,0.450,0.817,0.208,0.589,0.081,0.323)}"
      ],
      "execution_count": null,
      "outputs": []
    },
    {
      "cell_type": "markdown",
      "metadata": {
        "id": "aPy3PCFIcYhU"
      },
      "source": [
        "𝜆𝑘𝑙 - The misclassification error of type (𝑘,𝑙), 𝑘,𝑙∈𝐾, i.e., the cost of classifying an object as class 𝑙 when its true class is 𝑘."
      ]
    },
    {
      "cell_type": "code",
      "metadata": {
        "id": "7uqBRfXbcfVt"
      },
      "source": [
        "𝜆𝑘𝑙 = [[0,50],[50,0]]"
      ],
      "execution_count": null,
      "outputs": []
    },
    {
      "cell_type": "markdown",
      "metadata": {
        "id": "quyff7ZGdqfg"
      },
      "source": [
        "𝐾 - The set of possible classes; 𝐾={1,…,𝑘}."
      ]
    },
    {
      "cell_type": "code",
      "metadata": {
        "id": "p6c5ATn4dqyp"
      },
      "source": [
        "K = {\"Negative\" : 0 , \"Positive\" : 1}"
      ],
      "execution_count": null,
      "outputs": []
    },
    {
      "cell_type": "markdown",
      "metadata": {
        "id": "q6PZfJ2Fi-K6"
      },
      "source": [
        "𝑁 - The set of candidate tests available in a given system; the number of tests is denoted by 𝑛=|𝑁|. 𝑆∈𝑁 is a subset of selected tests called a configuration."
      ]
    },
    {
      "cell_type": "code",
      "metadata": {
        "id": "7Qe5NetLjFxQ"
      },
      "source": [
        "N = [1,2,3]"
      ],
      "execution_count": null,
      "outputs": []
    },
    {
      "cell_type": "code",
      "metadata": {
        "id": "Qc2iJuTtjaLf"
      },
      "source": [
        "# function create to get all N subsets\r\n",
        "def sub_lists (l): \r\n",
        "    base = []   \r\n",
        "    lists = [base] \r\n",
        "    for i in range(len(l)): \r\n",
        "        orig = lists[:] \r\n",
        "        new = l[i] \r\n",
        "        for j in range(len(lists)): \r\n",
        "            lists[j] = lists[j] + [new] \r\n",
        "        lists = orig + lists \r\n",
        "          \r\n",
        "    return lists\r\n",
        "\r\n",
        "subsets =  sub_lists(N)\r\n",
        "#subsets.remove([])"
      ],
      "execution_count": null,
      "outputs": []
    },
    {
      "cell_type": "markdown",
      "metadata": {
        "id": "e2wUpotCupAy"
      },
      "source": [
        "𝑐𝑖 - The cost of test 𝑖 for any 𝑖∈𝑁.\r\n"
      ]
    },
    {
      "cell_type": "code",
      "metadata": {
        "id": "IsYeA1iwupMh"
      },
      "source": [
        "ci = [2,0.5,0.5]"
      ],
      "execution_count": null,
      "outputs": []
    },
    {
      "cell_type": "markdown",
      "metadata": {
        "id": "98EdB3xIOEjH"
      },
      "source": [
        "R(S) - given a configuration 𝑆⊂𝑁 and test reading R,\r\n",
        "We define function **RS(S,R)** to return the set of all its signatures.\r\n",
        "\r\n"
      ]
    },
    {
      "cell_type": "code",
      "metadata": {
        "colab": {
          "base_uri": "https://localhost:8080/"
        },
        "id": "mXfHT9h3OE2O",
        "outputId": "be3fe8e2-6be5-4b8a-a490-d22eb322d3ac"
      },
      "source": [
        "def RS(S,R):\r\n",
        "  R_S = []\r\n",
        "  for j in R:\r\n",
        "    r = []\r\n",
        "    for i in S:\r\n",
        "        r.append(j[i-1])\r\n",
        "    if r not in R_S:\r\n",
        "      R_S.append(r)\r\n",
        "  return (R_S)\r\n",
        "\r\n",
        "# R(S) for 𝑆={1,2}\r\n",
        "RS((1,2), TR)"
      ],
      "execution_count": null,
      "outputs": [
        {
          "output_type": "execute_result",
          "data": {
            "text/plain": [
              "[[0, 0], [0, 1], [1, 0], [1, 1]]"
            ]
          },
          "metadata": {
            "tags": []
          },
          "execution_count": 14
        }
      ]
    },
    {
      "cell_type": "markdown",
      "metadata": {
        "id": "1fWbulBTVHWy"
      },
      "source": [
        "Q(S,r) - given a configuration 𝑆⊂𝑁 and signature r,  We defined **function QSr(S,r)**  to return the set of all the possible readings from which signature 𝐫 can be obtained when the configuration is 𝑆. 𝑄(𝑆,𝐫)={𝐫̃∈𝑅:𝑟̃𝑖=𝑟𝑖 ∀𝑖∈𝑆}.\r\n",
        "\r\n"
      ]
    },
    {
      "cell_type": "code",
      "metadata": {
        "id": "LDCdvsWNVLcT"
      },
      "source": [
        "def QSr(S,r):\r\n",
        "  Q_S = []\r\n",
        "  for j in TR:\r\n",
        "    rj = []\r\n",
        "    for i in S:\r\n",
        "      rj.append(j[i-1])\r\n",
        "    if rj == r :\r\n",
        "      Q_S.append(j)\r\n",
        "  return (Q_S)\r\n",
        "\r\n",
        "# Q(S,r) for 𝑆={1,2} and r = (0,0)\r\n",
        "#QSr([1,2], [0,1])"
      ],
      "execution_count": null,
      "outputs": []
    },
    {
      "cell_type": "markdown",
      "metadata": {
        "id": "-LqHvn1hORWC"
      },
      "source": [
        "**Formulation (1)** 𝑝(𝑘)= Σ𝑝(𝑘|𝐫̃)𝑝(𝐫̃) ; 𝐫̃∈𝑅 - the prior probability of each class."
      ]
    },
    {
      "cell_type": "code",
      "metadata": {
        "id": "nA8U8YrBORrG"
      },
      "source": [
        "def Pk(k):\r\n",
        "  total_prob = 0 \r\n",
        "  for index_r_, r_ in enumerate(pr_):\r\n",
        "    for index_kr_, kr_ in enumerate(pkr_[k]):\r\n",
        "      if index_r_ == index_kr_:\r\n",
        "        total_prob += r_ * kr_\r\n",
        "  return (total_prob)\r\n",
        "\r\n",
        "# Pk(k) for k = \"Positive\"\r\n",
        "#Pk(\"Positive\")"
      ],
      "execution_count": null,
      "outputs": []
    },
    {
      "cell_type": "markdown",
      "metadata": {
        "id": "-DajMH3SCvjt"
      },
      "source": [
        "**Formulation (3)** Ps(𝐫|𝑘)=ΣP(𝐫̃|𝑘) ;\r\n",
        "𝐫̃∈𝑄(𝑆,𝐫) - the probability of a signature given class 𝑘.\r\n",
        "\r\n",
        "\r\n",
        "\r\n",
        "\r\n",
        "\r\n"
      ]
    },
    {
      "cell_type": "code",
      "metadata": {
        "id": "CzSU2v5Y1d4w"
      },
      "source": [
        "# We created nested dictionary : first key is a class , second key is a reading, value is the conditional probability of the reading given the class.\r\n",
        "# for example: {\"Negative\": {\"(0,0,0)\": 0.035 }}\r\n",
        "dict_k_r_prk = {}\r\n",
        "for key in pr_k:\r\n",
        "  dict_k_r_prk.update({key: {}})\r\n",
        "  for index_i, i in enumerate(TR):\r\n",
        "    dict_k_r_prk[key].update({i:{}})\r\n",
        "    for index_j, j in enumerate(pr_k[key]):\r\n",
        "      if index_j == index_i:\r\n",
        "        dict_k_r_prk[key][i] = j "
      ],
      "execution_count": null,
      "outputs": []
    },
    {
      "cell_type": "code",
      "metadata": {
        "id": "byuDCnof-d6M"
      },
      "source": [
        "# Formulation (3) implementation\r\n",
        "def PSrk(S,r,k):\r\n",
        "  total_prob = 0\r\n",
        "  QS = QSr(S,r)\r\n",
        "  for r_ in QS:\r\n",
        "    total_prob += dict_k_r_prk[k][r_]\r\n",
        "  return (total_prob)\r\n",
        "\r\n",
        "# PSrk(S,r,k) for 𝑆={1,2} and r = (1,0) and k=\"Positive\"\r\n",
        "#PSrk((1,2,3),(1,0,0),\"Positive\")"
      ],
      "execution_count": null,
      "outputs": []
    },
    {
      "cell_type": "markdown",
      "metadata": {
        "id": "j_ewIYgdCV1X"
      },
      "source": [
        "**Formulation (4)** Ps(𝐫)=ΣP(𝐫̃) ; 𝑟̃∈𝑄(𝑆,𝐫) - the prior probability of signature 𝐫∈𝑅(𝑆)."
      ]
    },
    {
      "cell_type": "code",
      "metadata": {
        "id": "5JwYLgeKCWFR"
      },
      "source": [
        "# We created a dictionary : key is a reading, value is the a-priory probability of obtaining the reading 𝐫̃∈𝑅.\r\n",
        "# for example: {\"(0,0,0)\": 0.067 }\r\n",
        "dict_r_pr_ = {}\r\n",
        "for index_i, i in enumerate(TR):\r\n",
        "    dict_r_pr_.update({i:{}})\r\n",
        "    for index_j, j in enumerate(pr_ ):\r\n",
        "      if index_j == index_i:\r\n",
        "       dict_r_pr_[i] = j "
      ],
      "execution_count": null,
      "outputs": []
    },
    {
      "cell_type": "code",
      "metadata": {
        "id": "fvjl6duEIqeH"
      },
      "source": [
        "# Formulation (4) implementation\r\n",
        "def PSr(S,r):\r\n",
        "  total_prob = 0\r\n",
        "  QS = QSr(S,r)\r\n",
        "  for r_ in QS:\r\n",
        "    total_prob += dict_r_pr_ [r_]\r\n",
        "  return (total_prob)\r\n",
        "\r\n",
        "# PSr(S,r) for 𝑆={1,2} and r = (0,0)\r\n",
        "#PSr([1],[1])"
      ],
      "execution_count": null,
      "outputs": []
    },
    {
      "cell_type": "markdown",
      "metadata": {
        "id": "TQi_V5vbMCC6"
      },
      "source": [
        "**Formulation (5)** Ps(𝑘|𝐫)=Ps(𝐫|𝑘)∙𝑝(𝑘) / Ps(𝐫) - the a-posteriori probability that the class is 𝑘∈𝐾 given that the signature is 𝐫∈𝑅(𝑆)."
      ]
    },
    {
      "cell_type": "code",
      "metadata": {
        "id": "pDgLoxbuMo-y"
      },
      "source": [
        "def PSkr(S,r,k):\r\n",
        "  return PSrk(S,r,k) * Pk(k) / PSr(S,r)\r\n",
        "\r\n",
        "# PSkr(S,k,r) for 𝑆={1,2} and r = (0,0) and k=\"Positive\"\r\n",
        "#PSkr((1,2),(0,0),\"Positive\")"
      ],
      "execution_count": null,
      "outputs": []
    },
    {
      "cell_type": "markdown",
      "metadata": {
        "id": "Myl_BRmAaLAH"
      },
      "source": [
        "**Formulation (6)** 𝐸s(𝐫|𝑙)= Σ𝜆𝑘𝑙∙Ps(𝑘|𝐫) ; 𝑘∈𝐾 - Consider a given configuration 𝑆⊂𝑁. The expected classification error cost for signature 𝐫 of 𝑆 if it is mapped to class 𝑙"
      ]
    },
    {
      "cell_type": "code",
      "metadata": {
        "id": "SksqqNwzaLKl"
      },
      "source": [
        "def ESrl(S,r,l):\r\n",
        "  sum = 0 \r\n",
        "  for k in K:\r\n",
        "        sum += 𝜆𝑘𝑙[K[k]][K[l]] * PSkr(S,r,k)\r\n",
        "  return sum\r\n",
        "  \r\n",
        "# ESrl(S,r,l) for 𝑆={1,2} and r = (0,0) and l=\"Positive\"\r\n",
        "#ESrl((1,2),(0,0),\"Negative\")"
      ],
      "execution_count": null,
      "outputs": []
    },
    {
      "cell_type": "markdown",
      "metadata": {
        "id": "99j9F7VahplC"
      },
      "source": [
        "**Formulation (7)** 𝑙𝑆∗(𝐫)=argmin{𝐸𝑆(𝐫|𝑙)} ; 𝑙∈𝐾."
      ]
    },
    {
      "cell_type": "code",
      "metadata": {
        "id": "-6DSimCph_OS"
      },
      "source": [
        "def lS(S,r):\r\n",
        "  min = 100\r\n",
        "  for l in K:\r\n",
        "          if (ESrl(S,r,l) < min):\r\n",
        "            min = ESrl(S,r,l)\r\n",
        "            k = l\r\n",
        "  return k\r\n",
        "\r\n",
        "# lS(r) for r = (0,0,0)\r\n",
        "#lS((1,2),(0,0))"
      ],
      "execution_count": null,
      "outputs": []
    },
    {
      "cell_type": "markdown",
      "metadata": {
        "id": "D6IDU8X1rwlV"
      },
      "source": [
        "**Formulation (8)** 𝐸𝑆∗(𝐫)=min{𝐸𝑆(𝐫|𝑙)} ; 𝑙∈𝐾 - The minimum expected classification error cost for signature *𝐫*"
      ]
    },
    {
      "cell_type": "code",
      "metadata": {
        "id": "LyLkBU7-l6NB"
      },
      "source": [
        "def ES(S,r):\r\n",
        "  min = 100\r\n",
        "  for l in K:\r\n",
        "          if (ESrl(S,r,l) < min):\r\n",
        "            min = ESrl(S,r,l)\r\n",
        "  return min\r\n",
        "\r\n",
        "# ES(r) for r = (0,0,0)\r\n",
        "#ES((1,2),(0,0)\r\n",
        "#ES([],[])"
      ],
      "execution_count": null,
      "outputs": []
    },
    {
      "cell_type": "markdown",
      "metadata": {
        "id": "JpTsvGXDuPsS"
      },
      "source": [
        "**Formulation (9)** min𝑆⊆𝑁{Σ𝑝𝑆(𝐫)𝐸𝑆∗(𝐫) ; 𝐫∈𝑅(𝑆) +Σ𝑐𝑖 ; 𝑖∈𝑆} - The STCP formulated mathematically"
      ]
    },
    {
      "cell_type": "code",
      "metadata": {
        "colab": {
          "base_uri": "https://localhost:8080/"
        },
        "id": "J2cYm341udVP",
        "outputId": "4fcb0f30-b88c-4655-ca53-6d5a46c6ef2c"
      },
      "source": [
        "def STCP():\r\n",
        "  min_total_error = 100\r\n",
        "  for S in subsets:\r\n",
        "    test_cost = 0 \r\n",
        "    classification_error = 0 \r\n",
        "    for r in RS(S,TR):\r\n",
        "      classification_error += PSr(S,r) * ES(S,r)\r\n",
        "    for i in S:\r\n",
        "      test_cost += ci[i-1]\r\n",
        "      total_error = classification_error + test_cost\r\n",
        "      if (min_total_error> total_error):\r\n",
        "        min_total_error = total_error\r\n",
        "        min_s = S\r\n",
        "  print(total_error)\r\n",
        "  print(min_s)\r\n",
        "\r\n",
        "\r\n",
        "STCP()"
      ],
      "execution_count": null,
      "outputs": [
        {
          "output_type": "stream",
          "text": [
            "14.017118250000001\n",
            "[1, 2, 3]\n"
          ],
          "name": "stdout"
        }
      ]
    }
  ]
}