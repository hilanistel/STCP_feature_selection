{
  "nbformat": 4,
  "nbformat_minor": 0,
  "metadata": {
    "colab": {
      "name": "GTCP_small-scale_example.ipynb",
      "provenance": [],
      "collapsed_sections": [],
      "authorship_tag": "ABX9TyMIGzqRldAAY+yVdxdHsTe3",
      "include_colab_link": true
    },
    "kernelspec": {
      "name": "python3",
      "display_name": "Python 3"
    }
  },
  "cells": [
    {
      "cell_type": "markdown",
      "metadata": {
        "id": "view-in-github",
        "colab_type": "text"
      },
      "source": [
        "<a href=\"https://colab.research.google.com/github/hilanistel/STCP_feature_selection/blob/GTCP/GTCP_small_scale_example.ipynb\" target=\"_parent\"><img src=\"https://colab.research.google.com/assets/colab-badge.svg\" alt=\"Open In Colab\"/></a>"
      ]
    },
    {
      "cell_type": "code",
      "metadata": {
        "id": "ka0nPbb40__5"
      },
      "source": [
        "TR = {(0,0,0,1):1, (0,1,1,1):1,(1,1,1,1):1,(1,0,2,1):1,(1,0,1,1):0,(0,1,0,0):0,(0,0,2,0):0}"
      ],
      "execution_count": 112,
      "outputs": []
    },
    {
      "cell_type": "code",
      "metadata": {
        "id": "-m9-865p2nhv"
      },
      "source": [
        "ci = [4,3,6,5]"
      ],
      "execution_count": 113,
      "outputs": []
    },
    {
      "cell_type": "code",
      "metadata": {
        "id": "vg6fhb9W2utU"
      },
      "source": [
        "N = {0:\"Negative\", 1:\"Positive\"}"
      ],
      "execution_count": 114,
      "outputs": []
    },
    {
      "cell_type": "markdown",
      "metadata": {
        "id": "IVeNcAAW4jFH"
      },
      "source": [
        "**CRA**"
      ]
    },
    {
      "cell_type": "markdown",
      "metadata": {
        "id": "cRIB7bNz_6AG"
      },
      "source": [
        "𝑆= {𝑖∈𝑁: 𝑟𝑖≠𝑞𝑖}"
      ]
    },
    {
      "cell_type": "code",
      "metadata": {
        "id": "cqzWpOZj_vmK"
      },
      "source": [
        "def S(r,q):\r\n",
        "  s = []\r\n",
        "  for index_i,i in enumerate(r):\r\n",
        "      if r[index_i] != q[index_i]:\r\n",
        "        s.append(index_i)\r\n",
        "  return s"
      ],
      "execution_count": 115,
      "outputs": []
    },
    {
      "cell_type": "code",
      "metadata": {
        "colab": {
          "base_uri": "https://localhost:8080/"
        },
        "id": "IhhE_9c8Ka3_",
        "outputId": "d04b8743-a7f9-4d31-e07f-5e43691dd933"
      },
      "source": [
        "S((1, 1, 1, 1),(1, 0, 1, 1))"
      ],
      "execution_count": 116,
      "outputs": [
        {
          "output_type": "execute_result",
          "data": {
            "text/plain": [
              "[1]"
            ]
          },
          "metadata": {
            "tags": []
          },
          "execution_count": 116
        }
      ]
    },
    {
      "cell_type": "markdown",
      "metadata": {
        "id": "pGV3BNLWCDNN"
      },
      "source": [
        "If there is no 𝑆′∈ℂ s.t 𝑆′⊆𝑆"
      ]
    },
    {
      "cell_type": "code",
      "metadata": {
        "id": "itWmMPZvCCzG"
      },
      "source": [
        "# function create to get all N subsets\r\n",
        "def sub_lists (l): \r\n",
        "    base = []   \r\n",
        "    lists = [base] \r\n",
        "    for i in range(len(l)): \r\n",
        "        orig = lists[:] \r\n",
        "        new = l[i] \r\n",
        "        for j in range(len(lists)): \r\n",
        "            lists[j] = lists[j] + [new] \r\n",
        "        lists = orig + lists   \r\n",
        "    lists.remove([])  \r\n",
        "    return lists"
      ],
      "execution_count": 117,
      "outputs": []
    },
    {
      "cell_type": "code",
      "metadata": {
        "id": "NRyJf0-mDSUX"
      },
      "source": [
        "def S_in_C(S,C):\r\n",
        "  subsets_S = sub_lists(S)\r\n",
        "  for s in subsets_S:\r\n",
        "    for c in C:\r\n",
        "      if s == c:\r\n",
        "        return 0 #True\r\n",
        "  return 1 #False"
      ],
      "execution_count": 118,
      "outputs": []
    },
    {
      "cell_type": "code",
      "metadata": {
        "colab": {
          "base_uri": "https://localhost:8080/"
        },
        "id": "sFuK8Hk_4lw4",
        "outputId": "411310cd-5825-44ee-862c-31cb70fb4155"
      },
      "source": [
        "C = [] # start with an empty collection of constraints\r\n",
        "for i in TR:\r\n",
        "  for j in TR:\r\n",
        "    if TR[i] != TR[j]:\r\n",
        "      s = S(i,j) # 𝑆= {𝑖∈𝑁: 𝑟𝑖≠𝑞𝑖}\r\n",
        "      if S_in_C(s,C) == 1:\r\n",
        "        for c in C:\r\n",
        "          C1= C.copy()\r\n",
        "          subsets_c = sub_lists(c)\r\n",
        "          if s in subsets_c:\r\n",
        "            C1.remove(c)\r\n",
        "          C = C1\r\n",
        "        C.append(s)\r\n",
        "print(C)"
      ],
      "execution_count": 135,
      "outputs": [
        {
          "output_type": "stream",
          "text": [
            "[[1], [2], [0, 3]]\n"
          ],
          "name": "stdout"
        }
      ]
    },
    {
      "cell_type": "markdown",
      "metadata": {
        "id": "G9Z4OcUEmcq-"
      },
      "source": [
        "**CPLEX**"
      ]
    },
    {
      "cell_type": "code",
      "metadata": {
        "colab": {
          "base_uri": "https://localhost:8080/"
        },
        "id": "3irSsy7WrysA",
        "outputId": "bc773f55-de49-4ba5-d25f-fdfdb3944407"
      },
      "source": [
        "pip install cplex"
      ],
      "execution_count": 148,
      "outputs": [
        {
          "output_type": "stream",
          "text": [
            "Collecting cplex\n",
            "\u001b[?25l  Downloading https://files.pythonhosted.org/packages/69/65/75bc076bec7a29ac65c9a8049d66effbf84db40d6f4f8e8137e9c9eaeb15/cplex-12.10.0.3-cp36-cp36m-manylinux1_x86_64.whl (31.0MB)\n",
            "\u001b[K     |████████████████████████████████| 31.0MB 147kB/s \n",
            "\u001b[?25hInstalling collected packages: cplex\n",
            "Successfully installed cplex-12.10.0.3\n"
          ],
          "name": "stdout"
        }
      ]
    },
    {
      "cell_type": "code",
      "metadata": {
        "colab": {
          "base_uri": "https://localhost:8080/"
        },
        "id": "uGLcTdnTr9Hs",
        "outputId": "dad42535-7d3d-45fa-e53c-37700cf98226"
      },
      "source": [
        "\r\n",
        "import cplex\r\n",
        "\r\n",
        "# Create an instance of a linear problem to solve\r\n",
        "problem = cplex.Cplex()\r\n",
        "\r\n",
        "\r\n",
        "# We want to find a minimum of our objective function\r\n",
        "problem.objective.set_sense(problem.objective.sense.minimize)\r\n",
        "\r\n",
        "# The names of our variables (tests)\r\n",
        "names = [\"x1\", \"x2\", \"x3\", \"x4\"]\r\n",
        "\r\n",
        "# The obective function. More precisely, the coefficients of the objective\r\n",
        "# function. Note that we are casting to floats.\r\n",
        "objective = [4.0,3.0,6.0,5.0]\r\n",
        "\r\n",
        "# Lower bounds. Since these are all zero, we could simply not pass them in as\r\n",
        "# all zeroes is the default.\r\n",
        "lower_bounds = [0.0, 0.0, 0.0, 0.0]\r\n",
        "\r\n",
        "# Upper bounds. The default here would be cplex.infinity, or 1e+20.\r\n",
        "upper_bounds = [100, 1000, 1000, 1000]\r\n",
        "\r\n",
        "problem.variables.add(obj = objective,\r\n",
        "                      lb = lower_bounds,\r\n",
        "                      ub = upper_bounds,\r\n",
        "                      names = names)\r\n",
        "\r\n",
        "# Constraints\r\n",
        "constraint_names = [\"c1\", \"c2\", \"c3\"]\r\n",
        "\r\n",
        "first_constraint = [[\"x2\"], [1.0]]\r\n",
        "second_constraint = [[\"x3\"], [1.0]]\r\n",
        "third_constraint = [[\"x1\", \"x4\"], [1.0,1.0]]\r\n",
        "\r\n",
        "constraints = [ first_constraint, second_constraint, third_constraint ]\r\n",
        "\r\n",
        "rhs = [1.0, 1.0, 1.0]\r\n",
        "constraint_senses = [ \"G\", \"G\" , \"G\"]\r\n",
        "\r\n",
        "# And add the constraints\r\n",
        "problem.linear_constraints.add(lin_expr = constraints,\r\n",
        "                               senses = constraint_senses,\r\n",
        "                               rhs = rhs,\r\n",
        "                               names = constraint_names)\r\n",
        "\r\n",
        "# Solve the problem\r\n",
        "problem.solve()\r\n",
        "\r\n",
        "# And print the solutions\r\n",
        "print(problem.solution.get_values())"
      ],
      "execution_count": 153,
      "outputs": [
        {
          "output_type": "stream",
          "text": [
            "Version identifier: 12.10.0.0 | 2019-11-27 | 843d4de\n",
            "CPXPARAM_Read_DataCheck                          1\n",
            "Tried aggregator 1 time.\n",
            "LP Presolve eliminated 2 rows and 2 columns.\n",
            "Reduced LP has 1 rows, 2 columns, and 2 nonzeros.\n",
            "Presolve time = 0.00 sec. (0.00 ticks)\n",
            "\n",
            "Iteration log . . .\n",
            "Iteration:     1   Dual objective     =            13.000000\n",
            "[1.0, 1.0, 1.0, 0.0]\n"
          ],
          "name": "stdout"
        }
      ]
    }
  ]
}